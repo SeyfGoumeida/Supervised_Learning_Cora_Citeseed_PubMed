{
  "nbformat": 4,
  "nbformat_minor": 0,
  "metadata": {
    "colab": {
      "name": "Projet « Apprentissage supervisé ».ipynb",
      "provenance": [],
      "authorship_tag": "ABX9TyMOzecxn9NhJZpnMkBHGh0v",
      "include_colab_link": true
    },
    "kernelspec": {
      "name": "python3",
      "display_name": "Python 3"
    },
    "language_info": {
      "name": "python"
    }
  },
  "cells": [
    {
      "cell_type": "markdown",
      "metadata": {
        "id": "view-in-github",
        "colab_type": "text"
      },
      "source": [
        "<a href=\"https://colab.research.google.com/github/SeyfGoumeida/Projet_Apprentissage_supervis-_Cr-dits_bancaires_Donn-es_relationnelles/blob/main/Projet_%C2%AB_Apprentissage_supervis%C3%A9_%C2%BB.ipynb\" target=\"_parent\"><img src=\"https://colab.research.google.com/assets/colab-badge.svg\" alt=\"Open In Colab\"/></a>"
      ]
    },
    {
      "cell_type": "code",
      "metadata": {
        "id": "texB137JOIdV"
      },
      "source": [
        ""
      ],
      "execution_count": null,
      "outputs": []
    }
  ]
}